{
 "cells": [
  {
   "cell_type": "code",
   "execution_count": 2,
   "metadata": {
    "_cell_guid": "b1076dfc-b9ad-4769-8c92-a6c4dae69d19",
    "_uuid": "8f2839f25d086af736a60e9eeb907d3b93b6e0e5"
   },
   "outputs": [],
   "source": [
    "import numpy as np # linear algebra\n",
    "import pandas as pd # data processing, CSV file I/O (e.g. pd.read_csv)\n",
    "import os"
   ]
  },
  {
   "cell_type": "code",
   "execution_count": 3,
   "metadata": {
    "_cell_guid": "79c7e3d0-c299-4dcb-8224-4455121ee9b0",
    "_uuid": "d629ff2d2480ee46fbb7e2d37f6b5fab8052498a"
   },
   "outputs": [
    {
     "name": "stdout",
     "output_type": "stream",
     "text": [
      "(43266, 9)\n",
      "(18543, 8)\n"
     ]
    },
    {
     "data": {
      "text/html": [
       "<div>\n",
       "<style scoped>\n",
       "    .dataframe tbody tr th:only-of-type {\n",
       "        vertical-align: middle;\n",
       "    }\n",
       "\n",
       "    .dataframe tbody tr th {\n",
       "        vertical-align: top;\n",
       "    }\n",
       "\n",
       "    .dataframe thead th {\n",
       "        text-align: right;\n",
       "    }\n",
       "</style>\n",
       "<table border=\"1\" class=\"dataframe\">\n",
       "  <thead>\n",
       "    <tr style=\"text-align: right;\">\n",
       "      <th></th>\n",
       "      <th>Complaint-ID</th>\n",
       "      <th>Date-received</th>\n",
       "      <th>Transaction-Type</th>\n",
       "      <th>Complaint-reason</th>\n",
       "      <th>Company-response</th>\n",
       "      <th>Date-sent-to-company</th>\n",
       "      <th>Complaint-Status</th>\n",
       "      <th>Consumer-disputes</th>\n",
       "      <th>Consumer-complaint-summary</th>\n",
       "    </tr>\n",
       "  </thead>\n",
       "  <tbody>\n",
       "    <tr>\n",
       "      <th>0</th>\n",
       "      <td>Tr-1</td>\n",
       "      <td>11/11/2015</td>\n",
       "      <td>Mortgage</td>\n",
       "      <td>Loan servicing, payments, escrow account</td>\n",
       "      <td>NaN</td>\n",
       "      <td>11/11/2015</td>\n",
       "      <td>Closed with explanation</td>\n",
       "      <td>Yes</td>\n",
       "      <td>Seterus, Inc a déposé un faux rapport auprès d...</td>\n",
       "    </tr>\n",
       "    <tr>\n",
       "      <th>1</th>\n",
       "      <td>Tr-2</td>\n",
       "      <td>7/7/2015</td>\n",
       "      <td>Credit reporting</td>\n",
       "      <td>Incorrect information on credit report</td>\n",
       "      <td>Company chooses not to provide a public response</td>\n",
       "      <td>7/7/2015</td>\n",
       "      <td>Closed with non-monetary relief</td>\n",
       "      <td>No</td>\n",
       "      <td>XX / XX / XXXX La requête en faillite n ° XXXX...</td>\n",
       "    </tr>\n",
       "    <tr>\n",
       "      <th>2</th>\n",
       "      <td>Tr-3</td>\n",
       "      <td>5/7/2015</td>\n",
       "      <td>Bank account or service</td>\n",
       "      <td>Using a debit or ATM card</td>\n",
       "      <td>NaN</td>\n",
       "      <td>5/7/2015</td>\n",
       "      <td>Closed with explanation</td>\n",
       "      <td>No</td>\n",
       "      <td>El XXXX / XXXX / 15, estaba preparando el vuel...</td>\n",
       "    </tr>\n",
       "    <tr>\n",
       "      <th>3</th>\n",
       "      <td>Tr-4</td>\n",
       "      <td>11/12/2016</td>\n",
       "      <td>Debt collection</td>\n",
       "      <td>Cont'd attempts collect debt not owed</td>\n",
       "      <td>Company believes it acted appropriately as aut...</td>\n",
       "      <td>11/12/2016</td>\n",
       "      <td>Closed with explanation</td>\n",
       "      <td>No</td>\n",
       "      <td>The loan was paid in XXXX XXXX. In XXXX, 4 yea...</td>\n",
       "    </tr>\n",
       "    <tr>\n",
       "      <th>4</th>\n",
       "      <td>Tr-5</td>\n",
       "      <td>9/29/2016</td>\n",
       "      <td>Credit card</td>\n",
       "      <td>Payoff process</td>\n",
       "      <td>Company has responded to the consumer and the ...</td>\n",
       "      <td>9/29/2016</td>\n",
       "      <td>Closed with explanation</td>\n",
       "      <td>No</td>\n",
       "      <td>J'ai obtenu un compte de crédit de soins pour ...</td>\n",
       "    </tr>\n",
       "  </tbody>\n",
       "</table>\n",
       "</div>"
      ],
      "text/plain": [
       "  Complaint-ID Date-received         Transaction-Type  \\\n",
       "0         Tr-1    11/11/2015                 Mortgage   \n",
       "1         Tr-2      7/7/2015         Credit reporting   \n",
       "2         Tr-3      5/7/2015  Bank account or service   \n",
       "3         Tr-4    11/12/2016          Debt collection   \n",
       "4         Tr-5     9/29/2016              Credit card   \n",
       "\n",
       "                           Complaint-reason  \\\n",
       "0  Loan servicing, payments, escrow account   \n",
       "1    Incorrect information on credit report   \n",
       "2                 Using a debit or ATM card   \n",
       "3     Cont'd attempts collect debt not owed   \n",
       "4                            Payoff process   \n",
       "\n",
       "                                    Company-response Date-sent-to-company  \\\n",
       "0                                                NaN           11/11/2015   \n",
       "1   Company chooses not to provide a public response             7/7/2015   \n",
       "2                                                NaN             5/7/2015   \n",
       "3  Company believes it acted appropriately as aut...           11/12/2016   \n",
       "4  Company has responded to the consumer and the ...            9/29/2016   \n",
       "\n",
       "                  Complaint-Status Consumer-disputes  \\\n",
       "0          Closed with explanation               Yes   \n",
       "1  Closed with non-monetary relief                No   \n",
       "2          Closed with explanation                No   \n",
       "3          Closed with explanation                No   \n",
       "4          Closed with explanation                No   \n",
       "\n",
       "                          Consumer-complaint-summary  \n",
       "0  Seterus, Inc a déposé un faux rapport auprès d...  \n",
       "1  XX / XX / XXXX La requête en faillite n ° XXXX...  \n",
       "2  El XXXX / XXXX / 15, estaba preparando el vuel...  \n",
       "3  The loan was paid in XXXX XXXX. In XXXX, 4 yea...  \n",
       "4  J'ai obtenu un compte de crédit de soins pour ...  "
      ]
     },
     "execution_count": 3,
     "metadata": {},
     "output_type": "execute_result"
    }
   ],
   "source": [
    "#load data\n",
    "dataset = pd.read_csv(\"dataset/train.csv\")\n",
    "test = pd.read_csv(\"dataset/test.csv\")\n",
    "print(dataset.shape)\n",
    "print(test.shape)\n",
    "dataset.head()"
   ]
  },
  {
   "cell_type": "code",
   "execution_count": 3,
   "metadata": {
    "_uuid": "ba82c63ddfdfc1f10f845164263fedc438723b13"
   },
   "outputs": [
    {
     "name": "stdout",
     "output_type": "stream",
     "text": [
      "(43266, 7)\n",
      "(43266,)\n",
      "Index(['Date-received', 'Transaction-Type', 'Complaint-reason',\n",
      "       'Company-response', 'Date-sent-to-company', 'Consumer-disputes',\n",
      "       'Consumer-complaint-summary'],\n",
      "      dtype='object')\n",
      "Index(['Date-received', 'Transaction-Type', 'Complaint-reason',\n",
      "       'Company-response', 'Date-sent-to-company', 'Consumer-disputes',\n",
      "       'Consumer-complaint-summary'],\n",
      "      dtype='object')\n"
     ]
    }
   ],
   "source": [
    "# seperate X and y\n",
    "complain_id = test[\"Complaint-ID\"]\n",
    "test = test.drop('Complaint-ID', axis=1)\n",
    "X = dataset.copy().drop('Complaint-Status', axis=1)\n",
    "X = X.drop('Complaint-ID', axis=1)\n",
    "y = dataset['Complaint-Status']\n",
    "print(X.shape)\n",
    "print(y.shape)\n",
    "print(X.columns)\n",
    "print(test.columns)"
   ]
  },
  {
   "cell_type": "code",
   "execution_count": 4,
   "metadata": {
    "_uuid": "5745bbf360b0f6deb918483ac7d0249b66afcd6c"
   },
   "outputs": [
    {
     "name": "stdout",
     "output_type": "stream",
     "text": [
      "(61809, 7)\n",
      "(43266, 7) (18543, 7)\n"
     ]
    }
   ],
   "source": [
    "df_merge = X.append(test)\n",
    "print(df_merge.shape)\n",
    "print(X.shape , test.shape)"
   ]
  },
  {
   "cell_type": "code",
   "execution_count": 5,
   "metadata": {
    "_uuid": "c93518999e4ddfa8acac5b9bc543ea88308b5849"
   },
   "outputs": [
    {
     "data": {
      "text/plain": [
       "61809"
      ]
     },
     "execution_count": 5,
     "metadata": {},
     "output_type": "execute_result"
    }
   ],
   "source": [
    "43266+18543"
   ]
  },
  {
   "cell_type": "code",
   "execution_count": 6,
   "metadata": {
    "_uuid": "f1bcf9da1e634cd0030869f3e94ced027c7c2e64"
   },
   "outputs": [
    {
     "name": "stdout",
     "output_type": "stream",
     "text": [
      "Date-received : 921\n",
      "Transaction-Type : 18\n",
      "Complaint-reason : 152\n",
      "Company-response : 11\n",
      "Date-sent-to-company : 931\n",
      "Consumer-disputes : 3\n",
      "Consumer-complaint-summary : 61362\n"
     ]
    }
   ],
   "source": [
    "for col in df_merge.columns:\n",
    "    print(col,':', len(df_merge[col].unique()))"
   ]
  },
  {
   "cell_type": "code",
   "execution_count": 7,
   "metadata": {
    "_uuid": "428eed799dc5ccdc352f141c196aeca7df376d08"
   },
   "outputs": [
    {
     "data": {
      "text/plain": [
       "Index(['Company-response', 'Consumer-disputes'], dtype='object')"
      ]
     },
     "execution_count": 7,
     "metadata": {},
     "output_type": "execute_result"
    }
   ],
   "source": [
    "#check missing values\n",
    "df_merge.columns[df_merge.isnull().any()]"
   ]
  },
  {
   "cell_type": "code",
   "execution_count": 8,
   "metadata": {
    "_uuid": "e30b4cb244d8969ecb60647dc89e36112b34784e"
   },
   "outputs": [
    {
     "data": {
      "text/plain": [
       "Consumer-disputes    0.178000\n",
       "Company-response     0.521073\n",
       "dtype: float64"
      ]
     },
     "execution_count": 8,
     "metadata": {},
     "output_type": "execute_result"
    }
   ],
   "source": [
    "#missing value counts in each of these columns\n",
    "miss = df_merge.isnull().sum()/len(df_merge)\n",
    "miss = miss[miss > 0]\n",
    "miss.sort_values(inplace=True)\n",
    "miss"
   ]
  },
  {
   "cell_type": "code",
   "execution_count": 9,
   "metadata": {
    "_uuid": "1e062a6158944a92e341c7b24d3ac0a0be7b56ff"
   },
   "outputs": [
    {
     "data": {
      "text/plain": [
       "0    Seterus, Inc a déposé un faux rapport auprès d...\n",
       "1    XX / XX / XXXX La requête en faillite n ° XXXX...\n",
       "2    El XXXX / XXXX / 15, estaba preparando el vuel...\n",
       "3    The loan was paid in XXXX XXXX. In XXXX, 4 yea...\n",
       "4    J'ai obtenu un compte de crédit de soins pour ...\n",
       "Name: Consumer-complaint-summary, dtype: object"
      ]
     },
     "execution_count": 9,
     "metadata": {},
     "output_type": "execute_result"
    }
   ],
   "source": [
    "df_merge['Consumer-complaint-summary'][:5]"
   ]
  },
  {
   "cell_type": "code",
   "execution_count": 10,
   "metadata": {
    "_uuid": "de14a642ebec793baaff8974427901e3e81fd123"
   },
   "outputs": [
    {
     "data": {
      "text/html": [
       "<div>\n",
       "<style scoped>\n",
       "    .dataframe tbody tr th:only-of-type {\n",
       "        vertical-align: middle;\n",
       "    }\n",
       "\n",
       "    .dataframe tbody tr th {\n",
       "        vertical-align: top;\n",
       "    }\n",
       "\n",
       "    .dataframe thead th {\n",
       "        text-align: right;\n",
       "    }\n",
       "</style>\n",
       "<table border=\"1\" class=\"dataframe\">\n",
       "  <thead>\n",
       "    <tr style=\"text-align: right;\">\n",
       "      <th></th>\n",
       "      <th>Date-received</th>\n",
       "      <th>Transaction-Type</th>\n",
       "      <th>Complaint-reason</th>\n",
       "      <th>Company-response</th>\n",
       "      <th>Date-sent-to-company</th>\n",
       "      <th>Consumer-disputes</th>\n",
       "    </tr>\n",
       "  </thead>\n",
       "  <tbody>\n",
       "    <tr>\n",
       "      <th>0</th>\n",
       "      <td>11/11/2015</td>\n",
       "      <td>Mortgage</td>\n",
       "      <td>Loan servicing, payments, escrow account</td>\n",
       "      <td>NaN</td>\n",
       "      <td>11/11/2015</td>\n",
       "      <td>Yes</td>\n",
       "    </tr>\n",
       "    <tr>\n",
       "      <th>1</th>\n",
       "      <td>7/7/2015</td>\n",
       "      <td>Credit reporting</td>\n",
       "      <td>Incorrect information on credit report</td>\n",
       "      <td>Company chooses not to provide a public response</td>\n",
       "      <td>7/7/2015</td>\n",
       "      <td>No</td>\n",
       "    </tr>\n",
       "    <tr>\n",
       "      <th>2</th>\n",
       "      <td>5/7/2015</td>\n",
       "      <td>Bank account or service</td>\n",
       "      <td>Using a debit or ATM card</td>\n",
       "      <td>NaN</td>\n",
       "      <td>5/7/2015</td>\n",
       "      <td>No</td>\n",
       "    </tr>\n",
       "    <tr>\n",
       "      <th>3</th>\n",
       "      <td>11/12/2016</td>\n",
       "      <td>Debt collection</td>\n",
       "      <td>Cont'd attempts collect debt not owed</td>\n",
       "      <td>Company believes it acted appropriately as aut...</td>\n",
       "      <td>11/12/2016</td>\n",
       "      <td>No</td>\n",
       "    </tr>\n",
       "    <tr>\n",
       "      <th>4</th>\n",
       "      <td>9/29/2016</td>\n",
       "      <td>Credit card</td>\n",
       "      <td>Payoff process</td>\n",
       "      <td>Company has responded to the consumer and the ...</td>\n",
       "      <td>9/29/2016</td>\n",
       "      <td>No</td>\n",
       "    </tr>\n",
       "  </tbody>\n",
       "</table>\n",
       "</div>"
      ],
      "text/plain": [
       "  Date-received         Transaction-Type  \\\n",
       "0    11/11/2015                 Mortgage   \n",
       "1      7/7/2015         Credit reporting   \n",
       "2      5/7/2015  Bank account or service   \n",
       "3    11/12/2016          Debt collection   \n",
       "4     9/29/2016              Credit card   \n",
       "\n",
       "                           Complaint-reason  \\\n",
       "0  Loan servicing, payments, escrow account   \n",
       "1    Incorrect information on credit report   \n",
       "2                 Using a debit or ATM card   \n",
       "3     Cont'd attempts collect debt not owed   \n",
       "4                            Payoff process   \n",
       "\n",
       "                                    Company-response Date-sent-to-company  \\\n",
       "0                                                NaN           11/11/2015   \n",
       "1   Company chooses not to provide a public response             7/7/2015   \n",
       "2                                                NaN             5/7/2015   \n",
       "3  Company believes it acted appropriately as aut...           11/12/2016   \n",
       "4  Company has responded to the consumer and the ...            9/29/2016   \n",
       "\n",
       "  Consumer-disputes  \n",
       "0               Yes  \n",
       "1                No  \n",
       "2                No  \n",
       "3                No  \n",
       "4                No  "
      ]
     },
     "execution_count": 10,
     "metadata": {},
     "output_type": "execute_result"
    }
   ],
   "source": [
    "df_merge = df_merge.drop('Consumer-complaint-summary', axis=1)\n",
    "df_merge.head()"
   ]
  },
  {
   "cell_type": "code",
   "execution_count": 11,
   "metadata": {
    "_uuid": "c70e96cd01b9d1aef047d9b14a5ea450ba1aba87"
   },
   "outputs": [
    {
     "data": {
      "text/plain": [
       "{'Closed with explanation': 1,\n",
       " 'Closed': 2,\n",
       " 'Untimely response': 3,\n",
       " 'Closed with non-monetary relief': 4,\n",
       " 'Closed with monetary relief': 5}"
      ]
     },
     "execution_count": 11,
     "metadata": {},
     "output_type": "execute_result"
    }
   ],
   "source": [
    "status = set(y)\n",
    "count = 1\n",
    "complain_stat = {}\n",
    "for stat in status:\n",
    "    if stat not in complain_stat:\n",
    "        complain_stat[stat] = count\n",
    "        count += 1\n",
    "complain_stat"
   ]
  },
  {
   "cell_type": "code",
   "execution_count": 12,
   "metadata": {
    "_uuid": "cbd60b0cb5b24fec7996e2b4fe3d1791e4335654"
   },
   "outputs": [
    {
     "data": {
      "text/html": [
       "<div>\n",
       "<style scoped>\n",
       "    .dataframe tbody tr th:only-of-type {\n",
       "        vertical-align: middle;\n",
       "    }\n",
       "\n",
       "    .dataframe tbody tr th {\n",
       "        vertical-align: top;\n",
       "    }\n",
       "\n",
       "    .dataframe thead th {\n",
       "        text-align: right;\n",
       "    }\n",
       "</style>\n",
       "<table border=\"1\" class=\"dataframe\">\n",
       "  <thead>\n",
       "    <tr style=\"text-align: right;\">\n",
       "      <th></th>\n",
       "      <th>Date-received</th>\n",
       "      <th>Transaction-Type</th>\n",
       "      <th>Complaint-reason</th>\n",
       "      <th>Company-response</th>\n",
       "      <th>Date-sent-to-company</th>\n",
       "      <th>Consumer-disputes</th>\n",
       "    </tr>\n",
       "  </thead>\n",
       "  <tbody>\n",
       "    <tr>\n",
       "      <th>0</th>\n",
       "      <td>11/11/2015</td>\n",
       "      <td>Mortgage</td>\n",
       "      <td>Loan servicing, payments, escrow account</td>\n",
       "      <td>NaN</td>\n",
       "      <td>11/11/2015</td>\n",
       "      <td>Yes</td>\n",
       "    </tr>\n",
       "    <tr>\n",
       "      <th>1</th>\n",
       "      <td>7/7/2015</td>\n",
       "      <td>Credit reporting</td>\n",
       "      <td>Incorrect information on credit report</td>\n",
       "      <td>Company chooses not to provide a public response</td>\n",
       "      <td>7/7/2015</td>\n",
       "      <td>No</td>\n",
       "    </tr>\n",
       "    <tr>\n",
       "      <th>2</th>\n",
       "      <td>5/7/2015</td>\n",
       "      <td>Bank account or service</td>\n",
       "      <td>Using a debit or ATM card</td>\n",
       "      <td>NaN</td>\n",
       "      <td>5/7/2015</td>\n",
       "      <td>No</td>\n",
       "    </tr>\n",
       "    <tr>\n",
       "      <th>3</th>\n",
       "      <td>11/12/2016</td>\n",
       "      <td>Debt collection</td>\n",
       "      <td>Cont'd attempts collect debt not owed</td>\n",
       "      <td>Company believes it acted appropriately as aut...</td>\n",
       "      <td>11/12/2016</td>\n",
       "      <td>No</td>\n",
       "    </tr>\n",
       "    <tr>\n",
       "      <th>4</th>\n",
       "      <td>9/29/2016</td>\n",
       "      <td>Credit card</td>\n",
       "      <td>Payoff process</td>\n",
       "      <td>Company has responded to the consumer and the ...</td>\n",
       "      <td>9/29/2016</td>\n",
       "      <td>No</td>\n",
       "    </tr>\n",
       "  </tbody>\n",
       "</table>\n",
       "</div>"
      ],
      "text/plain": [
       "  Date-received         Transaction-Type  \\\n",
       "0    11/11/2015                 Mortgage   \n",
       "1      7/7/2015         Credit reporting   \n",
       "2      5/7/2015  Bank account or service   \n",
       "3    11/12/2016          Debt collection   \n",
       "4     9/29/2016              Credit card   \n",
       "\n",
       "                           Complaint-reason  \\\n",
       "0  Loan servicing, payments, escrow account   \n",
       "1    Incorrect information on credit report   \n",
       "2                 Using a debit or ATM card   \n",
       "3     Cont'd attempts collect debt not owed   \n",
       "4                            Payoff process   \n",
       "\n",
       "                                    Company-response Date-sent-to-company  \\\n",
       "0                                                NaN           11/11/2015   \n",
       "1   Company chooses not to provide a public response             7/7/2015   \n",
       "2                                                NaN             5/7/2015   \n",
       "3  Company believes it acted appropriately as aut...           11/12/2016   \n",
       "4  Company has responded to the consumer and the ...            9/29/2016   \n",
       "\n",
       "  Consumer-disputes  \n",
       "0               Yes  \n",
       "1                No  \n",
       "2                No  \n",
       "3                No  \n",
       "4                No  "
      ]
     },
     "execution_count": 12,
     "metadata": {},
     "output_type": "execute_result"
    }
   ],
   "source": [
    "# dataset['Complaint-Status'] = list(dataset['Complaint-Status'].map(complain_stat))\n",
    "df_merge.head()"
   ]
  },
  {
   "cell_type": "code",
   "execution_count": 13,
   "metadata": {
    "_uuid": "52a634f2f72a62edc194f1b07d133fadbfde3497"
   },
   "outputs": [
    {
     "data": {
      "text/plain": [
       "Date-received           object\n",
       "Transaction-Type        object\n",
       "Complaint-reason        object\n",
       "Company-response        object\n",
       "Date-sent-to-company    object\n",
       "Consumer-disputes       object\n",
       "dtype: object"
      ]
     },
     "execution_count": 13,
     "metadata": {},
     "output_type": "execute_result"
    }
   ],
   "source": [
    "df_merge.dtypes"
   ]
  },
  {
   "cell_type": "code",
   "execution_count": 14,
   "metadata": {
    "_uuid": "bf1be989ebdf8a75a5658891a5544c4b38f69c59"
   },
   "outputs": [
    {
     "data": {
      "text/plain": [
       "Index(['Company-response', 'Consumer-disputes'], dtype='object')"
      ]
     },
     "execution_count": 14,
     "metadata": {},
     "output_type": "execute_result"
    }
   ],
   "source": [
    "df_merge.columns[df_merge.isnull().any()]"
   ]
  },
  {
   "cell_type": "code",
   "execution_count": 15,
   "metadata": {
    "_uuid": "8ba4478937b4ad661727b5648d20a7f4a41c9066"
   },
   "outputs": [
    {
     "data": {
      "text/html": [
       "<div>\n",
       "<style scoped>\n",
       "    .dataframe tbody tr th:only-of-type {\n",
       "        vertical-align: middle;\n",
       "    }\n",
       "\n",
       "    .dataframe tbody tr th {\n",
       "        vertical-align: top;\n",
       "    }\n",
       "\n",
       "    .dataframe thead th {\n",
       "        text-align: right;\n",
       "    }\n",
       "</style>\n",
       "<table border=\"1\" class=\"dataframe\">\n",
       "  <thead>\n",
       "    <tr style=\"text-align: right;\">\n",
       "      <th></th>\n",
       "      <th>Date-received</th>\n",
       "      <th>Transaction-Type</th>\n",
       "      <th>Complaint-reason</th>\n",
       "      <th>Company-response</th>\n",
       "      <th>Date-sent-to-company</th>\n",
       "      <th>Consumer-disputes</th>\n",
       "    </tr>\n",
       "  </thead>\n",
       "  <tbody>\n",
       "    <tr>\n",
       "      <th>0</th>\n",
       "      <td>11/11/2015</td>\n",
       "      <td>Mortgage</td>\n",
       "      <td>Loan servicing, payments, escrow account</td>\n",
       "      <td>NaN</td>\n",
       "      <td>11/11/2015</td>\n",
       "      <td>Yes</td>\n",
       "    </tr>\n",
       "    <tr>\n",
       "      <th>1</th>\n",
       "      <td>7/7/2015</td>\n",
       "      <td>Credit reporting</td>\n",
       "      <td>Incorrect information on credit report</td>\n",
       "      <td>Company chooses not to provide a public response</td>\n",
       "      <td>7/7/2015</td>\n",
       "      <td>No</td>\n",
       "    </tr>\n",
       "    <tr>\n",
       "      <th>2</th>\n",
       "      <td>5/7/2015</td>\n",
       "      <td>Bank account or service</td>\n",
       "      <td>Using a debit or ATM card</td>\n",
       "      <td>NaN</td>\n",
       "      <td>5/7/2015</td>\n",
       "      <td>No</td>\n",
       "    </tr>\n",
       "    <tr>\n",
       "      <th>3</th>\n",
       "      <td>11/12/2016</td>\n",
       "      <td>Debt collection</td>\n",
       "      <td>Cont'd attempts collect debt not owed</td>\n",
       "      <td>Company believes it acted appropriately as aut...</td>\n",
       "      <td>11/12/2016</td>\n",
       "      <td>No</td>\n",
       "    </tr>\n",
       "    <tr>\n",
       "      <th>4</th>\n",
       "      <td>9/29/2016</td>\n",
       "      <td>Credit card</td>\n",
       "      <td>Payoff process</td>\n",
       "      <td>Company has responded to the consumer and the ...</td>\n",
       "      <td>9/29/2016</td>\n",
       "      <td>No</td>\n",
       "    </tr>\n",
       "  </tbody>\n",
       "</table>\n",
       "</div>"
      ],
      "text/plain": [
       "  Date-received         Transaction-Type  \\\n",
       "0    11/11/2015                 Mortgage   \n",
       "1      7/7/2015         Credit reporting   \n",
       "2      5/7/2015  Bank account or service   \n",
       "3    11/12/2016          Debt collection   \n",
       "4     9/29/2016              Credit card   \n",
       "\n",
       "                           Complaint-reason  \\\n",
       "0  Loan servicing, payments, escrow account   \n",
       "1    Incorrect information on credit report   \n",
       "2                 Using a debit or ATM card   \n",
       "3     Cont'd attempts collect debt not owed   \n",
       "4                            Payoff process   \n",
       "\n",
       "                                    Company-response Date-sent-to-company  \\\n",
       "0                                                NaN           11/11/2015   \n",
       "1   Company chooses not to provide a public response             7/7/2015   \n",
       "2                                                NaN             5/7/2015   \n",
       "3  Company believes it acted appropriately as aut...           11/12/2016   \n",
       "4  Company has responded to the consumer and the ...            9/29/2016   \n",
       "\n",
       "  Consumer-disputes  \n",
       "0               Yes  \n",
       "1                No  \n",
       "2                No  \n",
       "3                No  \n",
       "4                No  "
      ]
     },
     "execution_count": 15,
     "metadata": {},
     "output_type": "execute_result"
    }
   ],
   "source": [
    "df_merge['Company-response'][pd.isnull(df_merge['Company-response'])]  = 'NaN'\n",
    "df_merge['Consumer-disputes'][pd.isnull(df_merge['Consumer-disputes'])]  = 'NaN'\n",
    "\n",
    "# dataset['Company-response'].fillna(0) # a[pd.isnull(a)]  = 'NaN'\n",
    "# dataset['Consumer-disputes'].fillna(0) # a[pd.isnull(a)]  = 'NaN'\n",
    "df_merge.head()"
   ]
  },
  {
   "cell_type": "code",
   "execution_count": 16,
   "metadata": {
    "_uuid": "1e913176010e3cf7afce4f3d5f1a24d786192754"
   },
   "outputs": [
    {
     "data": {
      "text/html": [
       "<div>\n",
       "<style scoped>\n",
       "    .dataframe tbody tr th:only-of-type {\n",
       "        vertical-align: middle;\n",
       "    }\n",
       "\n",
       "    .dataframe tbody tr th {\n",
       "        vertical-align: top;\n",
       "    }\n",
       "\n",
       "    .dataframe thead th {\n",
       "        text-align: right;\n",
       "    }\n",
       "</style>\n",
       "<table border=\"1\" class=\"dataframe\">\n",
       "  <thead>\n",
       "    <tr style=\"text-align: right;\">\n",
       "      <th></th>\n",
       "      <th>Date-received</th>\n",
       "      <th>Transaction-Type</th>\n",
       "      <th>Complaint-reason</th>\n",
       "      <th>Company-response</th>\n",
       "      <th>Date-sent-to-company</th>\n",
       "      <th>Consumer-disputes</th>\n",
       "    </tr>\n",
       "  </thead>\n",
       "  <tbody>\n",
       "    <tr>\n",
       "      <th>0</th>\n",
       "      <td>128</td>\n",
       "      <td>10</td>\n",
       "      <td>79</td>\n",
       "      <td>10</td>\n",
       "      <td>135</td>\n",
       "      <td>2</td>\n",
       "    </tr>\n",
       "    <tr>\n",
       "      <th>1</th>\n",
       "      <td>736</td>\n",
       "      <td>5</td>\n",
       "      <td>72</td>\n",
       "      <td>7</td>\n",
       "      <td>743</td>\n",
       "      <td>1</td>\n",
       "    </tr>\n",
       "    <tr>\n",
       "      <th>2</th>\n",
       "      <td>553</td>\n",
       "      <td>0</td>\n",
       "      <td>147</td>\n",
       "      <td>10</td>\n",
       "      <td>560</td>\n",
       "      <td>1</td>\n",
       "    </tr>\n",
       "    <tr>\n",
       "      <th>3</th>\n",
       "      <td>131</td>\n",
       "      <td>7</td>\n",
       "      <td>37</td>\n",
       "      <td>4</td>\n",
       "      <td>138</td>\n",
       "      <td>1</td>\n",
       "    </tr>\n",
       "    <tr>\n",
       "      <th>4</th>\n",
       "      <td>896</td>\n",
       "      <td>3</td>\n",
       "      <td>101</td>\n",
       "      <td>9</td>\n",
       "      <td>906</td>\n",
       "      <td>1</td>\n",
       "    </tr>\n",
       "  </tbody>\n",
       "</table>\n",
       "</div>"
      ],
      "text/plain": [
       "   Date-received  Transaction-Type  Complaint-reason  Company-response  \\\n",
       "0            128                10                79                10   \n",
       "1            736                 5                72                 7   \n",
       "2            553                 0               147                10   \n",
       "3            131                 7                37                 4   \n",
       "4            896                 3               101                 9   \n",
       "\n",
       "   Date-sent-to-company  Consumer-disputes  \n",
       "0                   135                  2  \n",
       "1                   743                  1  \n",
       "2                   560                  1  \n",
       "3                   138                  1  \n",
       "4                   906                  1  "
      ]
     },
     "execution_count": 16,
     "metadata": {},
     "output_type": "execute_result"
    }
   ],
   "source": [
    "from sklearn.preprocessing import LabelEncoder, OneHotEncoder\n",
    "\n",
    "for column in df_merge.columns:\n",
    "    if df_merge[column].dtype == type(object):\n",
    "        le = LabelEncoder()\n",
    "        df_merge[column] = le.fit_transform(df_merge[column])\n",
    "df_merge.head()"
   ]
  },
  {
   "cell_type": "code",
   "execution_count": 17,
   "metadata": {
    "_uuid": "989959caba74605d271792a1be4db0bf66d19a3d"
   },
   "outputs": [],
   "source": [
    "X_new = df_merge.iloc[:43266, :]\n",
    "test_new = df_merge.iloc[43266:, :]"
   ]
  },
  {
   "cell_type": "code",
   "execution_count": 18,
   "metadata": {
    "_uuid": "3e216a5b43b450b80129af5072fd017fc3b42394"
   },
   "outputs": [
    {
     "name": "stdout",
     "output_type": "stream",
     "text": [
      "(43266, 7) (43266, 6)\n",
      "(18543, 7) (18543, 6)\n"
     ]
    }
   ],
   "source": [
    "print(X.shape, X_new.shape)\n",
    "print(test.shape, test_new.shape)"
   ]
  },
  {
   "cell_type": "markdown",
   "metadata": {
    "_uuid": "4dc322e1382bdc60c591e97ccbc8f4eb21465637"
   },
   "source": [
    "# **Making the predictions**"
   ]
  },
  {
   "cell_type": "code",
   "execution_count": 19,
   "metadata": {
    "_uuid": "c2984c480d82cc4f174f9b82d67bd6d508bd583c"
   },
   "outputs": [
    {
     "name": "stderr",
     "output_type": "stream",
     "text": [
      "/home/aakash/.local/lib/python3.6/site-packages/sklearn/preprocessing/data.py:617: DataConversionWarning: Data with input dtype int64 were all converted to float64 by StandardScaler.\n",
      "  return self.partial_fit(X, y)\n",
      "/home/aakash/.local/lib/python3.6/site-packages/sklearn/base.py:462: DataConversionWarning: Data with input dtype int64 were all converted to float64 by StandardScaler.\n",
      "  return self.fit(X, **fit_params).transform(X)\n",
      "/home/aakash/.local/lib/python3.6/site-packages/ipykernel_launcher.py:9: DataConversionWarning: Data with input dtype int64 were all converted to float64 by StandardScaler.\n",
      "  if __name__ == '__main__':\n"
     ]
    }
   ],
   "source": [
    "# Splitting the dataset into the Training set and Test set\n",
    "from sklearn.model_selection import train_test_split\n",
    "X_train, X_test, y_train, y_test = train_test_split(X_new, y, test_size = 0.25, random_state = 0)\n",
    "\n",
    "# Feature Scaling\n",
    "from sklearn.preprocessing import StandardScaler\n",
    "sc = StandardScaler()\n",
    "X_train = sc.fit_transform(X_train)\n",
    "X_test = sc.transform(X_test)"
   ]
  },
  {
   "cell_type": "code",
   "execution_count": 24,
   "metadata": {
    "_uuid": "6145909105623ccb553b5429912282acefe7e1a4"
   },
   "outputs": [
    {
     "data": {
      "text/plain": [
       "SVC(C=1.0, cache_size=200, class_weight=None, coef0=0.0,\n",
       "  decision_function_shape='ovr', degree=3, gamma='auto_deprecated',\n",
       "  kernel='linear', max_iter=-1, probability=False, random_state=0,\n",
       "  shrinking=True, tol=0.001, verbose=False)"
      ]
     },
     "execution_count": 24,
     "metadata": {},
     "output_type": "execute_result"
    }
   ],
   "source": [
    "# Fitting SVM to the Training set\n",
    "from sklearn.svm import SVC\n",
    "classifier = SVC(kernel = 'linear', random_state = 0)\n",
    "classifier.fit(X_train, y_train)"
   ]
  },
  {
   "cell_type": "code",
   "execution_count": 25,
   "metadata": {
    "_uuid": "eae243e587c4719f7b63036ce0238a7b10f2167f"
   },
   "outputs": [
    {
     "data": {
      "text/plain": [
       "array(['Closed with explanation', 'Closed with explanation',\n",
       "       'Closed with explanation', ..., 'Closed with explanation',\n",
       "       'Closed with explanation', 'Closed with explanation'], dtype=object)"
      ]
     },
     "execution_count": 25,
     "metadata": {},
     "output_type": "execute_result"
    }
   ],
   "source": [
    "# Predicting the Test set results\n",
    "y_pred = classifier.predict(X_test)\n",
    "y_pred"
   ]
  },
  {
   "cell_type": "code",
   "execution_count": 29,
   "metadata": {
    "_uuid": "281aa635d0edff0275c11b974a9229e324bab9c6"
   },
   "outputs": [
    {
     "data": {
      "text/plain": [
       "array([[   0,  198,    0,    0,    0],\n",
       "       [   0, 8579,    0,    0,    0],\n",
       "       [   0,  698,    0,    0,    0],\n",
       "       [   0, 1261,    0,    0,    0],\n",
       "       [   0,   81,    0,    0,    0]])"
      ]
     },
     "execution_count": 29,
     "metadata": {},
     "output_type": "execute_result"
    }
   ],
   "source": [
    "# Making the Confusion Matrix\n",
    "from sklearn.metrics import confusion_matrix\n",
    "cm = confusion_matrix(y_test, y_pred)\n",
    "cm"
   ]
  },
  {
   "cell_type": "code",
   "execution_count": 31,
   "metadata": {
    "_uuid": "24226633390d238c6788cfe6c6332ac99b2dc48d"
   },
   "outputs": [
    {
     "data": {
      "text/plain": [
       "0.7931034482758621"
      ]
     },
     "execution_count": 31,
     "metadata": {},
     "output_type": "execute_result"
    }
   ],
   "source": [
    "from sklearn.metrics import accuracy_score\n",
    "accuracy_score(y_test, y_pred)"
   ]
  },
  {
   "cell_type": "code",
   "execution_count": 28,
   "metadata": {
    "_uuid": "db6e22e50c3bf85e7b099daf999e6dd924906398"
   },
   "outputs": [
    {
     "name": "stdout",
     "output_type": "stream",
     "text": [
      "18543\n"
     ]
    },
    {
     "data": {
      "text/plain": [
       "array(['Closed with explanation', 'Closed with explanation',\n",
       "       'Closed with explanation', ..., 'Closed with explanation',\n",
       "       'Closed with explanation', 'Closed with explanation'], dtype=object)"
      ]
     },
     "execution_count": 28,
     "metadata": {},
     "output_type": "execute_result"
    }
   ],
   "source": [
    "test_pred = classifier.predict(test_new)\n",
    "print(len(test_pred))\n",
    "test_pred"
   ]
  },
  {
   "cell_type": "code",
   "execution_count": 41,
   "metadata": {
    "_uuid": "4f6988aaa4b3a213d299f977feedb891a67d5901"
   },
   "outputs": [
    {
     "data": {
      "text/plain": [
       "18543"
      ]
     },
     "execution_count": 41,
     "metadata": {},
     "output_type": "execute_result"
    }
   ],
   "source": [
    "len(complain_id)"
   ]
  },
  {
   "cell_type": "code",
   "execution_count": 42,
   "metadata": {
    "_uuid": "f79334938f617f59347555746ffe228e232a7c82"
   },
   "outputs": [],
   "source": [
    "submission = pd.DataFrame(\n",
    "    {'Complaint-ID': complain_id,\n",
    "     'Complaint-Status': test_pred\n",
    "    })"
   ]
  },
  {
   "cell_type": "code",
   "execution_count": 43,
   "metadata": {
    "_uuid": "c036cee3a4d7877cf023d176a1aa71b8eadc71e4"
   },
   "outputs": [
    {
     "name": "stdout",
     "output_type": "stream",
     "text": [
      "(18543, 2)\n"
     ]
    },
    {
     "data": {
      "text/html": [
       "<div>\n",
       "<style scoped>\n",
       "    .dataframe tbody tr th:only-of-type {\n",
       "        vertical-align: middle;\n",
       "    }\n",
       "\n",
       "    .dataframe tbody tr th {\n",
       "        vertical-align: top;\n",
       "    }\n",
       "\n",
       "    .dataframe thead th {\n",
       "        text-align: right;\n",
       "    }\n",
       "</style>\n",
       "<table border=\"1\" class=\"dataframe\">\n",
       "  <thead>\n",
       "    <tr style=\"text-align: right;\">\n",
       "      <th></th>\n",
       "      <th>Complaint-ID</th>\n",
       "      <th>Complaint-Status</th>\n",
       "    </tr>\n",
       "  </thead>\n",
       "  <tbody>\n",
       "    <tr>\n",
       "      <th>0</th>\n",
       "      <td>Te-1</td>\n",
       "      <td>Closed with explanation</td>\n",
       "    </tr>\n",
       "    <tr>\n",
       "      <th>1</th>\n",
       "      <td>Te-2</td>\n",
       "      <td>Closed with explanation</td>\n",
       "    </tr>\n",
       "    <tr>\n",
       "      <th>2</th>\n",
       "      <td>Te-3</td>\n",
       "      <td>Closed with explanation</td>\n",
       "    </tr>\n",
       "    <tr>\n",
       "      <th>3</th>\n",
       "      <td>Te-4</td>\n",
       "      <td>Closed with explanation</td>\n",
       "    </tr>\n",
       "    <tr>\n",
       "      <th>4</th>\n",
       "      <td>Te-5</td>\n",
       "      <td>Closed with explanation</td>\n",
       "    </tr>\n",
       "  </tbody>\n",
       "</table>\n",
       "</div>"
      ],
      "text/plain": [
       "  Complaint-ID         Complaint-Status\n",
       "0         Te-1  Closed with explanation\n",
       "1         Te-2  Closed with explanation\n",
       "2         Te-3  Closed with explanation\n",
       "3         Te-4  Closed with explanation\n",
       "4         Te-5  Closed with explanation"
      ]
     },
     "execution_count": 43,
     "metadata": {},
     "output_type": "execute_result"
    }
   ],
   "source": [
    "print(submission.shape)\n",
    "submission.head()"
   ]
  },
  {
   "cell_type": "code",
   "execution_count": 44,
   "metadata": {
    "_uuid": "78b5fdc9f4909278e4a766288b21e9c229c341a9"
   },
   "outputs": [],
   "source": [
    "submission.to_csv('sub.csv', encoding='utf-8', index=False)"
   ]
  },
  {
   "cell_type": "code",
   "execution_count": null,
   "metadata": {},
   "outputs": [],
   "source": []
  }
 ],
 "metadata": {
  "kernelspec": {
   "display_name": "Python 3",
   "language": "python",
   "name": "python3"
  },
  "language_info": {
   "codemirror_mode": {
    "name": "ipython",
    "version": 3
   },
   "file_extension": ".py",
   "mimetype": "text/x-python",
   "name": "python",
   "nbconvert_exporter": "python",
   "pygments_lexer": "ipython3",
   "version": "3.6.7"
  }
 },
 "nbformat": 4,
 "nbformat_minor": 1
}
